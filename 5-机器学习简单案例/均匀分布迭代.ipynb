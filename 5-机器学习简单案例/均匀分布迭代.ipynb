{
 "cells": [
  {
   "cell_type": "code",
   "execution_count": 1,
   "metadata": {},
   "outputs": [],
   "source": [
    "import numpy as np"
   ]
  },
  {
   "cell_type": "code",
   "execution_count": 2,
   "metadata": {},
   "outputs": [
    {
     "name": "stdout",
     "output_type": "stream",
     "text": [
      "[5.9552207  2.74279824 6.75863494 5.40309511 3.40106118 4.96264166\n",
      " 5.86400815 4.26998286 5.17421893 2.41876812 5.13807711 6.14569709\n",
      " 5.77059615 5.40147155 4.64573125 3.55071688 3.81372565 4.48381401\n",
      " 6.71298543 4.30350917 5.00809108 2.86382511 2.05658693 6.86434002\n",
      " 3.58756487 6.17878559 5.27603791 2.43869676 2.502602   3.86498098\n",
      " 2.13789722 3.33190653 6.74929537 2.95577559 3.2118318  5.66158274\n",
      " 5.40187354 3.98802069 2.2444063  2.97363475 2.47510094 4.05881019\n",
      " 6.03286226 6.4293322  4.2427999  3.5061862  6.76254139 3.76264112\n",
      " 3.4366395  4.65204012 4.04693682 3.8810178  3.68254445 4.75246522\n",
      " 6.97607346 3.16744037 2.15085809 4.07917428 3.95405991 3.37787269\n",
      " 4.96791795 6.8625021  2.12344922 5.07816391 4.07217337 6.00077145\n",
      " 2.48186572 2.59664711 3.07541311 2.20621626 4.08319535 6.73698511\n",
      " 6.00673602 2.9929911  3.30656374 6.3877593  6.55272148 6.13248991\n",
      " 4.14653419 3.40075472 4.65573667 2.19592413 3.99371424 5.34234472\n",
      " 5.21622533 6.67923661 4.80609083 5.88227264 6.25758755 3.79724888\n",
      " 4.35433292 5.50791209 2.24184331 4.03646827 3.3069555  3.2464042\n",
      " 4.19779175 6.64379903 6.69885324 5.43177333]\n",
      "2.056586929739457 6.976073459173803 4.453462532250841\n"
     ]
    }
   ],
   "source": [
    "x = np.random.uniform(2,7,100)#2和7中取100个点服从均匀分布\n",
    "print(x)\n",
    "print(x.min(), x.max(), x.mean())"
   ]
  },
  {
   "cell_type": "code",
   "execution_count": 3,
   "metadata": {
    "scrolled": false
   },
   "outputs": [
    {
     "data": {
      "text/plain": [
       "(array([ 8.,  5.,  2.,  4.,  4.,  8.,  4.,  7., 10.,  3.,  4.,  4.,  4.,\n",
       "         6.,  2.,  4.,  6.,  3.,  5.,  7.]),\n",
       " array([2.05658693, 2.30256126, 2.54853558, 2.79450991, 3.04048424,\n",
       "        3.28645856, 3.53243289, 3.77840722, 4.02438154, 4.27035587,\n",
       "        4.51633019, 4.76230452, 5.00827885, 5.25425317, 5.5002275 ,\n",
       "        5.74620183, 5.99217615, 6.23815048, 6.48412481, 6.73009913,\n",
       "        6.97607346]),\n",
       " <a list of 20 Patch objects>)"
      ]
     },
     "execution_count": 3,
     "metadata": {},
     "output_type": "execute_result"
    }
   ],
   "source": [
    "import matplotlib.pyplot as plt\n",
    "#%matplotlib inline\n",
    "plt.hist(x, bins=20, color='g', edgecolor='k')#做一个直方图，将这100个点分为20个柱状（按照区间进行划分） edgecolor='k'表示边缘颜色"
   ]
  },
  {
   "cell_type": "code",
   "execution_count": 4,
   "metadata": {},
   "outputs": [
    {
     "data": {
      "text/plain": [
       "(array([ 70., 139., 234., 342., 488., 534., 654., 737., 837., 894., 887.,\n",
       "        859., 765., 680., 548., 475., 354., 257., 181.,  65.]),\n",
       " array([ 4.075468  ,  4.56768346,  5.05989893,  5.5521144 ,  6.04432986,\n",
       "         6.53654533,  7.0287608 ,  7.52097626,  8.01319173,  8.5054072 ,\n",
       "         8.99762266,  9.48983813,  9.9820536 , 10.47426906, 10.96648453,\n",
       "        11.45869999, 11.95091546, 12.44313093, 12.93534639, 13.42756186,\n",
       "        13.91977733]),\n",
       " <a list of 20 Patch objects>)"
      ]
     },
     "execution_count": 4,
     "metadata": {},
     "output_type": "execute_result"
    },
    {
     "data": {
      "image/png": "[encoded data removed]",
      "text/plain": [
       "<Figure size 432x288 with 1 Axes>"
      ]
     },
     "metadata": {
      "needs_background": "light"
     },
     "output_type": "display_data"
    }
   ],
   "source": [
    "x1 = np.random.uniform(2,7,10000)\n",
    "x2 = np.random.uniform(2,7,10000)\n",
    "x = x1 + x2\n",
    "plt.hist(x, bins=20, color='g', edgecolor='k')"
   ]
  },
  {
   "cell_type": "code",
   "execution_count": 5,
   "metadata": {},
   "outputs": [
    {
     "data": {
      "text/plain": [
       "(array([   6.,   29.,   57.,  124.,  277.,  487.,  683.,  891., 1098.,\n",
       "        1241., 1220., 1177.,  998.,  683.,  469.,  287.,  160.,   74.,\n",
       "          29.,   10.]),\n",
       " array([11.91848138, 12.970173  , 14.02186463, 15.07355626, 16.12524789,\n",
       "        17.17693952, 18.22863115, 19.28032278, 20.33201441, 21.38370604,\n",
       "        22.43539766, 23.48708929, 24.53878092, 25.59047255, 26.64216418,\n",
       "        27.69385581, 28.74554744, 29.79723907, 30.84893069, 31.90062232,\n",
       "        32.95231395]),\n",
       " <a list of 20 Patch objects>)"
      ]
     },
     "execution_count": 5,
     "metadata": {},
     "output_type": "execute_result"
    },
    {
     "data": {
      "image/png": "[encoded data removed]",
      "text/plain": [
       "<Figure size 432x288 with 1 Axes>"
      ]
     },
     "metadata": {
      "needs_background": "light"
     },
     "output_type": "display_data"
    }
   ],
   "source": [
    "x1 = np.random.uniform(2,7,10000)\n",
    "x2 = np.random.uniform(2,7,10000)\n",
    "x3 = np.random.uniform(2,7,10000)\n",
    "x4 = np.random.uniform(2,7,10000)\n",
    "x5 = np.random.uniform(2,7,10000)\n",
    "x = x1 + x2 + x3 + x4 + x5\n",
    "plt.hist(x, bins=20, color='g', edgecolor='k')"
   ]
  },
  {
   "cell_type": "code",
   "execution_count": 6,
   "metadata": {},
   "outputs": [
    {
     "data": {
      "text/plain": [
       "(array([5.000e+00, 4.000e+00, 1.000e+00, 3.000e+00, 5.000e+00, 5.000e+00,\n",
       "        5.000e+00, 8.000e+00, 1.100e+01, 2.400e+01, 2.100e+01, 3.100e+01,\n",
       "        4.200e+01, 4.400e+01, 6.100e+01, 7.300e+01, 9.700e+01, 9.700e+01,\n",
       "        1.340e+02, 1.660e+02, 1.950e+02, 2.250e+02, 2.870e+02, 3.680e+02,\n",
       "        3.710e+02, 4.900e+02, 5.620e+02, 6.130e+02, 7.450e+02, 8.200e+02,\n",
       "        8.960e+02, 1.003e+03, 1.219e+03, 1.330e+03, 1.432e+03, 1.624e+03,\n",
       "        1.823e+03, 1.809e+03, 1.994e+03, 2.072e+03, 2.283e+03, 2.397e+03,\n",
       "        2.496e+03, 2.521e+03, 2.772e+03, 2.846e+03, 2.893e+03, 2.990e+03,\n",
       "        3.077e+03, 3.074e+03, 3.105e+03, 2.983e+03, 2.988e+03, 2.973e+03,\n",
       "        2.987e+03, 2.904e+03, 2.792e+03, 2.735e+03, 2.597e+03, 2.414e+03,\n",
       "        2.262e+03, 2.162e+03, 2.043e+03, 1.891e+03, 1.620e+03, 1.599e+03,\n",
       "        1.497e+03, 1.298e+03, 1.195e+03, 1.114e+03, 9.780e+02, 9.110e+02,\n",
       "        7.440e+02, 6.410e+02, 5.950e+02, 5.180e+02, 4.440e+02, 3.340e+02,\n",
       "        2.830e+02, 2.340e+02, 2.160e+02, 1.880e+02, 1.590e+02, 9.900e+01,\n",
       "        8.000e+01, 8.100e+01, 4.900e+01, 3.700e+01, 4.000e+01, 3.800e+01,\n",
       "        2.400e+01, 1.900e+01, 1.200e+01, 1.400e+01, 8.000e+00, 1.300e+01,\n",
       "        3.000e+00, 5.000e+00, 5.000e+00, 5.000e+00]),\n",
       " array([ 49.52328332,  50.52035939,  51.51743545,  52.51451151,\n",
       "         53.51158758,  54.50866364,  55.50573971,  56.50281577,\n",
       "         57.49989184,  58.4969679 ,  59.49404397,  60.49112003,\n",
       "         61.4881961 ,  62.48527216,  63.48234823,  64.47942429,\n",
       "         65.47650036,  66.47357642,  67.47065248,  68.46772855,\n",
       "         69.46480461,  70.46188068,  71.45895674,  72.45603281,\n",
       "         73.45310887,  74.45018494,  75.447261  ,  76.44433707,\n",
       "         77.44141313,  78.4384892 ,  79.43556526,  80.43264132,\n",
       "         81.42971739,  82.42679345,  83.42386952,  84.42094558,\n",
       "         85.41802165,  86.41509771,  87.41217378,  88.40924984,\n",
       "         89.40632591,  90.40340197,  91.40047804,  92.3975541 ,\n",
       "         93.39463016,  94.39170623,  95.38878229,  96.38585836,\n",
       "         97.38293442,  98.38001049,  99.37708655, 100.37416262,\n",
       "        101.37123868, 102.36831475, 103.36539081, 104.36246688,\n",
       "        105.35954294, 106.356619  , 107.35369507, 108.35077113,\n",
       "        109.3478472 , 110.34492326, 111.34199933, 112.33907539,\n",
       "        113.33615146, 114.33322752, 115.33030359, 116.32737965,\n",
       "        117.32445572, 118.32153178, 119.31860785, 120.31568391,\n",
       "        121.31275997, 122.30983604, 123.3069121 , 124.30398817,\n",
       "        125.30106423, 126.2981403 , 127.29521636, 128.29229243,\n",
       "        129.28936849, 130.28644456, 131.28352062, 132.28059669,\n",
       "        133.27767275, 134.27474881, 135.27182488, 136.26890094,\n",
       "        137.26597701, 138.26305307, 139.26012914, 140.2572052 ,\n",
       "        141.25428127, 142.25135733, 143.2484334 , 144.24550946,\n",
       "        145.24258553, 146.23966159, 147.23673765, 148.23381372,\n",
       "        149.23088978]),\n",
       " <a list of 100 Patch objects>)"
      ]
     },
     "execution_count": 6,
     "metadata": {},
     "output_type": "execute_result"
    },
    {
     "data": {
      "image/png": "[encoded data removed]",
      "text/plain": [
       "<Figure size 432x288 with 1 Axes>"
      ]
     },
     "metadata": {
      "needs_background": "light"
     },
     "output_type": "display_data"
    }
   ],
   "source": [
    "x = np.zeros(100000)\n",
    "for i in range(20):\n",
    "    x += np.random.uniform(0, 10, 100000)\n",
    "plt.hist(x, bins=100, color='g', edgecolor='k')"
   ]
  },
  {
   "cell_type": "code",
   "execution_count": 7,
   "metadata": {},
   "outputs": [
    {
     "name": "stdout",
     "output_type": "stream",
     "text": [
      "[10  8  7 ...  4  8  7]\n"
     ]
    }
   ],
   "source": [
    "x = np.random.poisson(5, 100000)\n",
    "print(x)"
   ]
  },
  {
   "cell_type": "code",
   "execution_count": 8,
   "metadata": {
    "scrolled": true
   },
   "outputs": [
    {
     "data": {
      "text/plain": [
       "(array([6.8400e+02, 3.3610e+03, 8.4300e+03, 1.3974e+04, 1.7547e+04,\n",
       "        1.7499e+04, 1.4532e+04, 1.0592e+04, 6.4440e+03, 3.6540e+03,\n",
       "        1.8680e+03, 8.6500e+02, 3.4100e+02, 1.3800e+02, 5.3000e+01,\n",
       "        1.3000e+01, 5.0000e+00]),\n",
       " array([ 0,  1,  2,  3,  4,  5,  6,  7,  8,  9, 10, 11, 12, 13, 14, 15, 16,\n",
       "        17]),\n",
       " <a list of 17 Patch objects>)"
      ]
     },
     "execution_count": 8,
     "metadata": {},
     "output_type": "execute_result"
    },
    {
     "data": {
      "image/png": "[encoded data removed]",
      "text/plain": [
       "<Figure size 432x288 with 1 Axes>"
      ]
     },
     "metadata": {
      "needs_background": "light"
     },
     "output_type": "display_data"
    }
   ],
   "source": [
    "plt.hist(x, bins=np.arange(x.min(), x.max()+1), color='g', edgecolor='k')#直方图"
   ]
  },
  {
   "cell_type": "code",
   "execution_count": 9,
   "metadata": {},
   "outputs": [
    {
     "data": {
      "text/plain": [
       "(array([1.000e+00, 4.000e+00, 7.000e+00, 1.100e+01, 1.500e+01, 2.400e+01,\n",
       "        1.700e+01, 4.400e+01, 6.700e+01, 1.020e+02, 1.010e+02, 1.760e+02,\n",
       "        2.110e+02, 2.630e+02, 2.940e+02, 3.990e+02, 4.760e+02, 6.410e+02,\n",
       "        7.780e+02, 8.880e+02, 1.101e+03, 1.280e+03, 1.682e+03, 1.790e+03,\n",
       "        2.012e+03, 2.271e+03, 2.433e+03, 2.716e+03, 2.971e+03, 3.341e+03,\n",
       "        3.461e+03, 3.500e+03, 3.633e+03, 3.801e+03, 4.050e+03, 3.932e+03,\n",
       "        4.029e+03, 3.810e+03, 3.902e+03, 3.770e+03, 3.735e+03, 3.448e+03,\n",
       "        3.392e+03, 3.005e+03, 2.799e+03, 2.538e+03, 2.390e+03, 2.118e+03,\n",
       "        1.919e+03, 1.619e+03, 1.452e+03, 1.280e+03, 1.072e+03, 9.390e+02,\n",
       "        8.670e+02, 6.860e+02, 5.290e+02, 4.510e+02, 3.900e+02, 3.000e+02,\n",
       "        2.320e+02, 1.980e+02, 1.460e+02, 1.130e+02, 7.900e+01, 5.800e+01,\n",
       "        5.900e+01, 4.300e+01, 4.300e+01, 2.300e+01, 2.500e+01, 1.400e+01,\n",
       "        9.000e+00, 5.000e+00, 7.000e+00, 2.000e+00, 3.000e+00, 4.000e+00,\n",
       "        1.000e+00, 1.000e+00, 0.000e+00, 1.000e+00, 0.000e+00, 0.000e+00,\n",
       "        1.000e+00]),\n",
       " array([ 64.,  65.,  66.,  67.,  68.,  69.,  70.,  71.,  72.,  73.,  74.,\n",
       "         75.,  76.,  77.,  78.,  79.,  80.,  81.,  82.,  83.,  84.,  85.,\n",
       "         86.,  87.,  88.,  89.,  90.,  91.,  92.,  93.,  94.,  95.,  96.,\n",
       "         97.,  98.,  99., 100., 101., 102., 103., 104., 105., 106., 107.,\n",
       "        108., 109., 110., 111., 112., 113., 114., 115., 116., 117., 118.,\n",
       "        119., 120., 121., 122., 123., 124., 125., 126., 127., 128., 129.,\n",
       "        130., 131., 132., 133., 134., 135., 136., 137., 138., 139., 140.,\n",
       "        141., 142., 143., 144., 145., 146., 147., 148., 149.]),\n",
       " <a list of 85 Patch objects>)"
      ]
     },
     "execution_count": 9,
     "metadata": {},
     "output_type": "execute_result"
    },
    {
     "data": {
      "image/png": "[encoded data removed]",
      "text/plain": [
       "<Figure size 432x288 with 1 Axes>"
      ]
     },
     "metadata": {
      "needs_background": "light"
     },
     "output_type": "display_data"
    }
   ],
   "source": [
    "x = np.zeros(100000)\n",
    "for i in range(20):\n",
    "    x += np.random.poisson(5, 100000)\n",
    "plt.hist(x, bins=np.arange(x.min(), x.max()+1), color='g', edgecolor='k')"
   ]
  }
 ],
 "metadata": {
  "kernelspec": {
   "display_name": "Python 3",
   "language": "python",
   "name": "python3"
  },
  "language_info": {
   "codemirror_mode": {
    "name": "ipython",
    "version": 3
   },
   "file_extension": ".py",
   "mimetype": "text/x-python",
   "name": "python",
   "nbconvert_exporter": "python",
   "pygments_lexer": "ipython3",
   "version": "3.6.8"
  }
 },
 "nbformat": 4,
 "nbformat_minor": 2
}
