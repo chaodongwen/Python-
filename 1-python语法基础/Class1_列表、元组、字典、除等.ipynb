{
 "cells": [
  {
   "cell_type": "code",
   "execution_count": 1,
   "metadata": {},
   "outputs": [
    {
     "name": "stdout",
     "output_type": "stream",
     "text": [
      "['My', 'He']\n"
     ]
    },
    {
     "data": {
      "text/plain": [
       "'He'"
      ]
     },
     "execution_count": 1,
     "metadata": {},
     "output_type": "execute_result"
    }
   ],
   "source": [
    "#列表\n",
    "abc=[\"My\",\"You\"]\n",
    "abc[1]=\"He\"\n",
    "print(abc)\n",
    "abc[0]\n",
    "abc[1]"
   ]
  },
  {
   "cell_type": "code",
   "execution_count": 2,
   "metadata": {},
   "outputs": [
    {
     "data": {
      "text/plain": [
       "('My', 'You')"
      ]
     },
     "execution_count": 2,
     "metadata": {},
     "output_type": "execute_result"
    }
   ],
   "source": [
    "#元组\n",
    "cde = (\"My\",\"You\")\n",
    "cde\n",
    "#cde[1] =\"He\""
   ]
  },
  {
   "cell_type": "code",
   "execution_count": 3,
   "metadata": {},
   "outputs": [
    {
     "name": "stdout",
     "output_type": "stream",
     "text": [
      "{'s', 'd', 'n', 'j', 'a', 'f', 'i', 'o'}\n",
      "{'s', 'd', 'a', 'j', 'i', 'o'}\n"
     ]
    }
   ],
   "source": [
    "a=\"djiosajio\"\n",
    "b=\"nfasosdjio\"\n",
    "sa = set(a)#将a转化为一个集合\n",
    "sb = set(b)\n",
    "print(sa|sb)#求交集\n",
    "print(sa&sb)#求并集"
   ]
  },
  {
   "cell_type": "code",
   "execution_count": 4,
   "metadata": {},
   "outputs": [
    {
     "name": "stdout",
     "output_type": "stream",
     "text": [
      "张三\n",
      "男\n"
     ]
    }
   ],
   "source": [
    "#字典{Key1:Value1, Key2:Value2}\n",
    "dict1 = {\"Name\":\"张三\",\"Sex\":\"男\",\"Age\":\"18\"}\n",
    "print(dict1[\"Name\"])\n",
    "print(dict1[\"Sex\"])"
   ]
  },
  {
   "cell_type": "code",
   "execution_count": 5,
   "metadata": {},
   "outputs": [
    {
     "name": "stdout",
     "output_type": "stream",
     "text": [
      "HelloPython\n"
     ]
    }
   ],
   "source": [
    "p = \"Python\"\n",
    "print(\"Hello\" + p)"
   ]
  },
  {
   "cell_type": "code",
   "execution_count": 6,
   "metadata": {},
   "outputs": [
    {
     "name": "stdout",
     "output_type": "stream",
     "text": [
      "年龄为18，身高为 180\n"
     ]
    }
   ],
   "source": [
    "Age, height=18, 180\n",
    "print(\"年龄为%d，身高为\"%Age,height)\n"
   ]
  },
  {
   "cell_type": "code",
   "execution_count": 7,
   "metadata": {},
   "outputs": [
    {
     "name": "stdout",
     "output_type": "stream",
     "text": [
      "1.8\n",
      "1\n"
     ]
    }
   ],
   "source": [
    "#除法\n",
    "print(9/5)\n",
    "print(9//5)"
   ]
  },
  {
   "cell_type": "code",
   "execution_count": 8,
   "metadata": {},
   "outputs": [
    {
     "name": "stdout",
     "output_type": "stream",
     "text": [
      "abc\n"
     ]
    }
   ],
   "source": [
    "a = 9\n",
    "b=10\n",
    "if(a > 9):\n",
    "    print(a)\n",
    "    if(b == 10):\n",
    "        print(b)\n",
    "elif(a <= 9):\n",
    "    print(\"abc\")\n",
    "    "
   ]
  }
 ],
 "metadata": {
  "kernelspec": {
   "display_name": "Python 3",
   "language": "python",
   "name": "python3"
  },
  "language_info": {
   "codemirror_mode": {
    "name": "ipython",
    "version": 3
   },
   "file_extension": ".py",
   "mimetype": "text/x-python",
   "name": "python",
   "nbconvert_exporter": "python",
   "pygments_lexer": "ipython3",
   "version": "3.6.8"
  }
 },
 "nbformat": 4,
 "nbformat_minor": 2
}
