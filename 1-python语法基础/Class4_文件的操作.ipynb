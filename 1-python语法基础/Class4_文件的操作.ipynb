{
 "cells": [
  {
   "cell_type": "code",
   "execution_count": 3,
   "metadata": {},
   "outputs": [],
   "source": [
    "#open(\"含路径的文件名\",\"w或r（写入或读），wb是以二进制的方式进行写入\")\n",
    "#'a'是追加模式，'b'是二进制模式，'+'读/写模式。\n",
    "#data =open(\"C:/Users/wen/Python和爬虫基础/Excel1.xlsx\",\"w\")\n",
    "file1 = open(\"test1.txt\",\"a\")\n",
    "str1 = \"周道明\" + \"\\n\"\n",
    "file1.write(str1)\n",
    "#a = data.read\n",
    "file1.close()"
   ]
  },
  {
   "cell_type": "code",
   "execution_count": 4,
   "metadata": {},
   "outputs": [
    {
     "name": "stdout",
     "output_type": "stream",
     "text": [
      "蒹葭苍苍，白露为霜。所谓伊人，在水一方。\n",
      "\n",
      "溯洄从之，道阻且长。溯游从之，宛在水中央。\n",
      "\n",
      "蒹葭萋萋，白露未晞。所谓伊人，在水之湄。\n",
      "\n",
      "溯洄从之，道阻且跻。溯游从之，宛在水中坻。\n",
      "\n",
      "蒹葭采采，白露未已。所谓伊人，在水之涘。\n",
      "\n",
      "溯洄从之，道阻且右。溯游从之，宛在水中沚。\n"
     ]
    }
   ],
   "source": [
    "file2 = open(\"test2.txt\",\"r\")\n",
    "data1 = file2.readlines()\n",
    "for i in range(0,len(data1)):\n",
    "    print(data1[i])\n",
    "    \n",
    "#while 1:\n",
    "#    data2 = file2.readline()\n",
    "#    if(len(data2)==0):\n",
    "#        break\n",
    "#    print(data2)\n",
    "\n",
    "\n",
    "file2.close()  "
   ]
  },
  {
   "cell_type": "code",
   "execution_count": 5,
   "metadata": {},
   "outputs": [
    {
     "name": "stdout",
     "output_type": "stream",
     "text": [
      "My\n",
      "出错了\n"
     ]
    }
   ],
   "source": [
    "#异常处理\n",
    "try:\n",
    "    print(\"My\")\n",
    "    pprisdd(\"hi\")\n",
    "except Exception as er:\n",
    "    #print(er)\n",
    "    print(\"出错了\")\n",
    "# unexpected EOF while parsing"
   ]
  },
  {
   "cell_type": "code",
   "execution_count": 6,
   "metadata": {},
   "outputs": [
    {
     "name": "stdout",
     "output_type": "stream",
     "text": [
      "7311\n"
     ]
    }
   ],
   "source": [
    "#导入其他文件\n",
    "from urllib.request import urlopen\n",
    "data1 = urlopen(\"http://www.toutiao.com/\").read()\n",
    "data2 = urlopen(\"http://www.baidu.com/\").read()\n",
    "data3 = urlopen(\"https://www.sogou.com/\").read()\n",
    "print(len(data1))\n",
    "file1 = open(\"test3_爬取头条网页.txt\",\"wb\")\n",
    "file1.write(data1)\n",
    "file1.close()\n",
    "\n",
    "file2 = open(\"test3_爬取百度网页.txt\",\"wb\")\n",
    "file2.write(data2)\n",
    "file2.close()\n",
    "\n",
    "file2 = open(\"test3_爬取搜狗网页.txt\",\"wb\")\n",
    "file2.write(data3)\n",
    "file2.close()"
   ]
  },
  {
   "cell_type": "code",
   "execution_count": null,
   "metadata": {},
   "outputs": [],
   "source": [
    "#将多个excel表的内容合并到一个文件中"
   ]
  }
 ],
 "metadata": {
  "kernelspec": {
   "display_name": "Python 3",
   "language": "python",
   "name": "python3"
  },
  "language_info": {
   "codemirror_mode": {
    "name": "ipython",
    "version": 3
   },
   "file_extension": ".py",
   "mimetype": "text/x-python",
   "name": "python",
   "nbconvert_exporter": "python",
   "pygments_lexer": "ipython3",
   "version": "3.6.8"
  }
 },
 "nbformat": 4,
 "nbformat_minor": 2
}
