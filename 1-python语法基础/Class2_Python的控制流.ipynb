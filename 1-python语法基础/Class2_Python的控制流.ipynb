{
 "cells": [
  {
   "cell_type": "code",
   "execution_count": 14,
   "metadata": {},
   "outputs": [
    {
     "name": "stdout",
     "output_type": "stream",
     "text": [
      "a小于7\n",
      "Hello\n",
      "Hello\n"
     ]
    }
   ],
   "source": [
    "#Python的三种控制流：顺序结构、条件分支结构、循环结构\n",
    "#还有中断结构\n",
    "\n",
    "#if语句\n",
    "a = 6\n",
    "if(a == 7):\n",
    "    print(a)\n",
    "elif(a<7):\n",
    "    print(\"a小于7\")\n",
    "else:\n",
    "    print(\"a大于7\")\n",
    "#循环\n",
    "while (a < 8):\n",
    "    print(\"Hello\")\n",
    "    a = a + 1"
   ]
  },
  {
   "cell_type": "code",
   "execution_count": 19,
   "metadata": {
    "scrolled": true
   },
   "outputs": [
    {
     "name": "stdout",
     "output_type": "stream",
     "text": [
      "a\n",
      "b\n",
      "c\n",
      "d\n",
      "e\n",
      "f\n",
      "Hello\n",
      "Hello\n",
      "Hello\n",
      "Hello\n",
      "Hello\n",
      "Hello\n",
      "Hello\n",
      "Hello\n",
      "Hello\n",
      "Hello\n"
     ]
    }
   ],
   "source": [
    "#for\n",
    "a = [\"a\", \"b\", \"c\", \"d\", \"e\", \"f\"]\n",
    "for i in a:\n",
    "    print(i)\n",
    "for j in range(0,10):\n",
    "    print(\"Hello\")"
   ]
  },
  {
   "cell_type": "code",
   "execution_count": 27,
   "metadata": {},
   "outputs": [
    {
     "name": "stdout",
     "output_type": "stream",
     "text": [
      "0\n",
      "1\n",
      "2\n",
      "3\n",
      "4\n"
     ]
    }
   ],
   "source": [
    "#continue和break\n",
    "for i in range(0,8):\n",
    "    if(i == 5):\n",
    "        #continue\n",
    "        break\n",
    "    print(i)"
   ]
  },
  {
   "cell_type": "code",
   "execution_count": 47,
   "metadata": {},
   "outputs": [
    {
     "name": "stdout",
     "output_type": "stream",
     "text": [
      "  1*1=1\n",
      "  1*2=2  2*2=4\n",
      "  1*3=3  2*3=6  3*3=9\n",
      "  1*4=4  2*4=8  3*4=12  4*4=16\n",
      "  1*5=5  2*5=10  3*5=15  4*5=20  5*5=25\n",
      "  1*6=6  2*6=12  3*6=18  4*6=24  5*6=30  6*6=36\n",
      "  1*7=7  2*7=14  3*7=21  4*7=28  5*7=35  6*7=42  7*7=49\n",
      "  1*8=8  2*8=16  3*8=24  4*8=32  5*8=40  6*8=48  7*8=56  8*8=64\n",
      "  1*9=9  2*9=18  3*9=27  4*9=36  5*9=45  6*9=54  7*9=63  8*9=72  9*9=81\n"
     ]
    }
   ],
   "source": [
    "#乘法口诀\n",
    "for i in range(1, 10):\n",
    "    for j in range(1, i+1):\n",
    "        print(\"%3d*%d=%d\"%(j,i,i * j ),end=\"\")\n",
    "    print()"
   ]
  },
  {
   "cell_type": "code",
   "execution_count": 50,
   "metadata": {},
   "outputs": [
    {
     "name": "stdout",
     "output_type": "stream",
     "text": [
      "  1*9=9  2*9=18  3*9=27  4*9=36  5*9=45  6*9=54  7*9=63  8*9=72  9*9=81\n",
      "  1*8=8  2*8=16  3*8=24  4*8=32  5*8=40  6*8=48  7*8=56  8*8=64\n",
      "  1*7=7  2*7=14  3*7=21  4*7=28  5*7=35  6*7=42  7*7=49\n",
      "  1*6=6  2*6=12  3*6=18  4*6=24  5*6=30  6*6=36\n",
      "  1*5=5  2*5=10  3*5=15  4*5=20  5*5=25\n",
      "  1*4=4  2*4=8  3*4=12  4*4=16\n",
      "  1*3=3  2*3=6  3*3=9\n",
      "  1*2=2  2*2=4\n",
      "  1*1=1\n"
     ]
    }
   ],
   "source": [
    "#逆向输出乘法口诀\n",
    "for i in range(9, 0, -1):\n",
    "    for j in range(1, i+1):\n",
    "        print(\"%3d*%d=%d\"%(j,i,i * j ),end=\"\")\n",
    "    print()"
   ]
  }
 ],
 "metadata": {
  "kernelspec": {
   "display_name": "Python 3",
   "language": "python",
   "name": "python3"
  },
  "language_info": {
   "codemirror_mode": {
    "name": "ipython",
    "version": 3
   },
   "file_extension": ".py",
   "mimetype": "text/x-python",
   "name": "python",
   "nbconvert_exporter": "python",
   "pygments_lexer": "ipython3",
   "version": "3.6.5"
  }
 },
 "nbformat": 4,
 "nbformat_minor": 2
}
