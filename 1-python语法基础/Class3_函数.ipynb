{
 "cells": [
  {
   "cell_type": "code",
   "execution_count": 9,
   "metadata": {},
   "outputs": [
    {
     "name": "stdout",
     "output_type": "stream",
     "text": [
      "10\n",
      "10\n",
      "8\n"
     ]
    }
   ],
   "source": [
    "#作用域(局部变量与全局变量)\n",
    "i = 10\n",
    "def func1():\n",
    "    j=10\n",
    "    print(j)\n",
    "    \n",
    "func()\n",
    "print(i)\n",
    "#print(j)\n",
    "\n",
    "def func2():\n",
    "    global j\n",
    "    j = 8\n",
    "    \n",
    "func2()\n",
    "print(j)"
   ]
  },
  {
   "cell_type": "code",
   "execution_count": 11,
   "metadata": {},
   "outputs": [
    {
     "name": "stdout",
     "output_type": "stream",
     "text": [
      "abcd\n"
     ]
    }
   ],
   "source": [
    "def abc():\n",
    "    print(\"abcd\")\n",
    "abc()"
   ]
  },
  {
   "cell_type": "code",
   "execution_count": 15,
   "metadata": {},
   "outputs": [
    {
     "name": "stdout",
     "output_type": "stream",
     "text": [
      "4\n"
     ]
    }
   ],
   "source": [
    "#形参和实参\n",
    "def func1(a,b):\n",
    "    #print(a+b)\n",
    "    if(a > b):\n",
    "        print(a)\n",
    "    else:\n",
    "        print(b)\n",
    "        \n",
    "func1(4,3)"
   ]
  }
 ],
 "metadata": {
  "kernelspec": {
   "display_name": "Python 3",
   "language": "python",
   "name": "python3"
  },
  "language_info": {
   "codemirror_mode": {
    "name": "ipython",
    "version": 3
   },
   "file_extension": ".py",
   "mimetype": "text/x-python",
   "name": "python",
   "nbconvert_exporter": "python",
   "pygments_lexer": "ipython3",
   "version": "3.6.8"
  }
 },
 "nbformat": 4,
 "nbformat_minor": 2
}
