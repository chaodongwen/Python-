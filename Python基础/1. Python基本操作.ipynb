{
 "cells": [
  {
   "cell_type": "code",
   "execution_count": 14,
   "metadata": {},
   "outputs": [
    {
     "name": "stdout",
     "output_type": "stream",
     "text": [
      "12\n",
      "10.000000\n",
      "10\n",
      "3.141593\n",
      "3.14\n",
      "  3.14\n",
      "3.14\n"
     ]
    }
   ],
   "source": [
    "#格式化输出\n",
    "print(\"%o\" %10)\n",
    "print(\"%f\" %10)\n",
    "print(\"%d\" %10)\n",
    "#保留几位小数可以用round(Nnumber,ndigits)\n",
    "#%f有8位数\n",
    "print(\"%f\" %3.1415926)\n",
    "print(\"%.2f\" %3.1415926)\n",
    "print(\"%6.2f\" %3.1415926)\n",
    "print(round(3.1415926,2))"
   ]
  },
  {
   "cell_type": "code",
   "execution_count": 36,
   "metadata": {},
   "outputs": [
    {
     "name": "stdout",
     "output_type": "stream",
     "text": [
      "world hello world \n",
      "e\n",
      "hello hello\n",
      "hello world\n",
      "e\n",
      "hello,world\n",
      "hello,world\n",
      "{'age': 27, 'gender': 'M'}\n",
      "27\n",
      "M\n"
     ]
    }
   ],
   "source": [
    "#format中一个参数可以填充多次\n",
    "print(\"{1}{0}{1}\".format(\"hello \",\"world \"))\n",
    "#format索引输出\n",
    "str = \"hello\"\n",
    "list = [\"hello\",\"world\"]\n",
    "tuple = (\"hello\",\"world\")\n",
    "print(\"{0[1]}\".format(str))\n",
    "#最前面的0表示format中的第几个\n",
    "print(\"{0[0]} {0[0]}\".format(list))\n",
    "print(\"{0[0]} {0[1]}\".format(tuple))\n",
    "\n",
    "print(\"{p[1]}\".format(p=str))\n",
    "print(\"{p[0]},{p[1]}\".format(p=list))\n",
    "print(\"{p[0]},{p[1]}\".format(p=tuple))\n",
    "#字典\n",
    "Tom = {'age':27, 'gender':'M'}\n",
    "print(Tom)\n",
    "print(\"{0[age]}\".format(Tom))\n",
    "print(\"{p[gender]}\".format(p=Tom))"
   ]
  },
  {
   "cell_type": "code",
   "execution_count": 45,
   "metadata": {},
   "outputs": [],
   "source": [
    "class Person:\n",
    "    #实例化\n",
    "    def __init__(self,name,age):\n",
    "        self.name = name\n",
    "        self.age = age\n",
    "    def __init__(self):\n",
    "        return '{self.name} is {self.age} years old'.format(self=self)\n",
    "# print(Person('Tom',18))"
   ]
  },
  {
   "cell_type": "code",
   "execution_count": 33,
   "metadata": {},
   "outputs": [
    {
     "name": "stdout",
     "output_type": "stream",
     "text": [
      "默认输出：Hello,World\n",
      "左右各取10位对齐：Hello     ,     World\n",
      "取两位小数：3.141592 is 3.14\n",
      "转化为二进制：101111000110000001111001\n",
      "转化为八进制：57060171\n",
      "转化为十六进制：bc6079\n"
     ]
    }
   ],
   "source": [
    "#字符串对齐并指定对齐宽度\n",
    "print('默认输出：{},{}'.format('Hello','World'))\n",
    "#有>表示在右边对齐\n",
    "print('左右各取10位对齐：{:10s},{:>10s}'.format('Hello','World'))\n",
    "print('取两位小数：{} is {:.2f}'.format(3.141592,3.141592))\n",
    "#print('数值的千位分割符：{} is {:，}'.format(123456789, 1234567890))\n",
    "print('转化为二进制：{0:b}'.format(12345465))\n",
    "print('转化为八进制：{0:o}'.format(12345465))\n",
    "print('转化为十六进制：{0:x}'.format(12345465))"
   ]
  },
  {
   "cell_type": "code",
   "execution_count": 44,
   "metadata": {},
   "outputs": [
    {
     "name": "stdout",
     "output_type": "stream",
     "text": [
      "('Python', 'AI', 1, 2, 3, 4)\n",
      "AI\n"
     ]
    }
   ],
   "source": [
    "#列表，元组，字典\n",
    "tuple1 = ('Python','AI')\n",
    "tuple2 = (1,2,3,4)\n",
    "tup = tuple1 + tuple2\n",
    "print(tup)\n",
    "print(tup[1])"
   ]
  },
  {
   "cell_type": "code",
   "execution_count": 48,
   "metadata": {},
   "outputs": [
    {
     "name": "stdout",
     "output_type": "stream",
     "text": [
      "i=0\n",
      "i=1\n",
      "i=2\n",
      "i=0\n",
      "i=1\n",
      "i=2\n",
      "i=4\n"
     ]
    }
   ],
   "source": [
    "#循环\n",
    "#break\n",
    "for i in range(5):\n",
    "    if i == 3:\n",
    "        break\n",
    "    print(\"i=%d\"%i)\n",
    "#continue\n",
    "for i in range(5):\n",
    "    if i == 3:\n",
    "        continue\n",
    "    print(\"i=%d\"%i)\n",
    "#pass\n",
    "def sample():\n",
    "    pass"
   ]
  },
  {
   "cell_type": "code",
   "execution_count": 52,
   "metadata": {},
   "outputs": [
    {
     "name": "stdout",
     "output_type": "stream",
     "text": [
      "7\n",
      "[1, 4, 9, 16, 25, 36, 49, 64, 81]\n",
      "[6, 8, 10, 12]\n"
     ]
    }
   ],
   "source": [
    "#lambda函数\n",
    "sum = lambda x,y: x+y\n",
    "print(sum(3,4))\n",
    "#map\n",
    "#map(func,list),作用是将函数func应用于序列的所有元素\n",
    "seq_list = [1,2,3,4,5,6,7,8,9]\n",
    "F = list(map(lambda x: x**2,seq_list))\n",
    "print(F)\n",
    "a = [1,2,3,4]\n",
    "b = [5,6,7,8]\n",
    "a_Add_b = list(map(lambda x,y: x+y, a,b))\n",
    "print(a_Add_b)"
   ]
  },
  {
   "cell_type": "code",
   "execution_count": 56,
   "metadata": {},
   "outputs": [
    {
     "name": "stdout",
     "output_type": "stream",
     "text": [
      "[0, 2, 8, 34]\n"
     ]
    }
   ],
   "source": [
    "#filter函数\n",
    "#filter(func,iterable)过滤掉序列中的所有元素\n",
    "fib = [0,1,1,2,3,5,8,13,21,34,55]\n",
    "even_numbers = list(filter(lambda x: x%2==0,fib))\n",
    "print(even_numbers)"
   ]
  },
  {
   "cell_type": "code",
   "execution_count": 59,
   "metadata": {},
   "outputs": [
    {
     "name": "stdout",
     "output_type": "stream",
     "text": [
      "<function <lambda> at 0x00000206F8723730>\n",
      "102\n"
     ]
    }
   ],
   "source": [
    "#reduce()函数\n",
    "from functools import reduce\n",
    "f = lambda a,b: a if(a>b) else b\n",
    "print(reduce(f,[47,11,42,102,13]))"
   ]
  }
 ],
 "metadata": {
  "kernelspec": {
   "display_name": "Python 3",
   "language": "python",
   "name": "python3"
  },
  "language_info": {
   "codemirror_mode": {
    "name": "ipython",
    "version": 3
   },
   "file_extension": ".py",
   "mimetype": "text/x-python",
   "name": "python",
   "nbconvert_exporter": "python",
   "pygments_lexer": "ipython3",
   "version": "3.6.8"
  }
 },
 "nbformat": 4,
 "nbformat_minor": 2
}
