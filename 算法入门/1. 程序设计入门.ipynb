{
 "cells": [
  {
   "cell_type": "code",
   "execution_count": 1,
   "metadata": {},
   "outputs": [],
   "source": [
    "import numpy as np\n",
    "import math"
   ]
  },
  {
   "cell_type": "code",
   "execution_count": 8,
   "metadata": {},
   "outputs": [
    {
     "name": "stdout",
     "output_type": "stream",
     "text": [
      "2.345\n",
      "17.28\n",
      "2.35\n"
     ]
    }
   ],
   "source": [
    "#变量及其输入\n",
    "a = float(input())\n",
    "Area = a**2*np.pi\n",
    "print(round(Area,2))\n",
    "print(round(a,2))"
   ]
  },
  {
   "cell_type": "code",
   "execution_count": 52,
   "metadata": {},
   "outputs": [
    {
     "name": "stdout",
     "output_type": "stream",
     "text": [
      "124\n",
      "421\n",
      "421\n"
     ]
    }
   ],
   "source": [
    "#顺序结构程序设计\n",
    "#（1）三位数反转\n",
    "#整除用//表示\n",
    "#法一\n",
    "a = int(input())\n",
    "print(\"%d%d%d\"%(a%10,((a//10)%10),((a//100)%10)))\n",
    "#法二\n",
    "b = int(0)\n",
    "b = (a%10)*100 + ((a//10)%10)*10 + (a//100)%10\n",
    "print(b)"
   ]
  },
  {
   "cell_type": "code",
   "execution_count": 72,
   "metadata": {},
   "outputs": [
    {
     "name": "stdout",
     "output_type": "stream",
     "text": [
      "鸡的数量为12，兔的数量为2\n"
     ]
    }
   ],
   "source": [
    "#鸡兔同笼\n",
    "#已知鸡和兔的总数量为n，总腿数为m。输入n和m，依次输出鸡的数目和兔的数目。如果无解，则输出No answer\n",
    "#python中的或用or表示\n",
    "n = 14\n",
    "m = 32\n",
    "#设鸡有a只，兔有b只\n",
    "a = (4*n-m)//2\n",
    "b = n - a\n",
    "if(m%2==1 or a<0 or b<0):\n",
    "    print(\"No answer\")\n",
    "else:\n",
    "    print(\"鸡的数量为%d，兔的数量为%d\" %(a,b))"
   ]
  },
  {
   "cell_type": "code",
   "execution_count": 87,
   "metadata": {},
   "outputs": [
    {
     "name": "stdout",
     "output_type": "stream",
     "text": [
      "4 5 3\n",
      "3,4,5\n"
     ]
    }
   ],
   "source": [
    "#三整数排序\n",
    "#输入三个整数，从小到大排序后输出\n",
    "a,b,c = map(int,input().split(' '))\n",
    "if a>b:\n",
    "    temp = a\n",
    "    a = b\n",
    "    b = temp\n",
    "if b>c:\n",
    "    temp = b\n",
    "    b = c\n",
    "    c = temp\n",
    "if a>b:\n",
    "    temp = a\n",
    "    a = b\n",
    "    b = temp\n",
    "print(\"%d,%d,%d\" %(a,b,c))"
   ]
  },
  {
   "cell_type": "code",
   "execution_count": 100,
   "metadata": {},
   "outputs": [
    {
     "name": "stdout",
     "output_type": "stream",
     "text": [
      "3 4 5\n",
      "yes\n"
     ]
    }
   ],
   "source": [
    "#判断能否构成直角三角形\n",
    "a,b,c = map(int,input().split(' '))\n",
    "if(a+b>c and a+c>b and b+c>a):\n",
    "    if(a*a+b*b==c*c or a*a+c*c==b*b or b*b+c*c==a*a):\n",
    "        print(\"yes\")\n",
    "    else:\n",
    "        print(\"no\")\n",
    "else:\n",
    "    print(\"not a triangle\")"
   ]
  },
  {
   "cell_type": "code",
   "execution_count": 1,
   "metadata": {},
   "outputs": [
    {
     "name": "stdout",
     "output_type": "stream",
     "text": [
      "2015\n",
      "no\n"
     ]
    }
   ],
   "source": [
    "#判断是否为闰年\n",
    "#能被4整除不能被100整除的是普通闰年，能被400整除的是世纪闰年，能被100整除但不能被400整除的不是闰年\n",
    "year = int(input())\n",
    "if year%4 == 0:\n",
    "    if year%100 !=0:\n",
    "        print(\"yes\")\n",
    "    elif year%400 ==0:\n",
    "        print(\"yes\")\n",
    "    else:\n",
    "        print(\"no\")\n",
    "else:\n",
    "    print(\"no\")"
   ]
  },
  {
   "cell_type": "code",
   "execution_count": 12,
   "metadata": {},
   "outputs": [
    {
     "name": "stdout",
     "output_type": "stream",
     "text": [
      "1 2 5 1 5\n",
      "1 4 2 6 4\n",
      "3 5 6 9 8\n",
      "1 5 2 3 4\n",
      "2 6 3 5 4\n",
      "no\n",
      "[['1 2 5 1 5'], ['1 4 2 6 4'], ['3 5 6 9 8'], ['1 5 2 3 4'], ['2 6 3 5 4']]\n"
     ]
    }
   ],
   "source": [
    "#用input输入多个数据\n",
    "a =[]\n",
    "while True:  \n",
    "    b = input()\n",
    "    if b== 'no':\n",
    "        break\n",
    "    a.append([b])\n",
    "print(a)"
   ]
  },
  {
   "cell_type": "code",
   "execution_count": 10,
   "metadata": {},
   "outputs": [
    {
     "name": "stdout",
     "output_type": "stream",
     "text": [
      "415 \n",
      "sda \n",
      "dsa\n",
      "\n",
      "415 \n",
      "sda \n",
      "dsa\n",
      "\n"
     ]
    }
   ],
   "source": [
    "a = input()\n",
    "b = input()\n",
    "c = input()\n",
    "print(\"\\n{}\\n{}\\n{}\\n\".format(a,b,c))"
   ]
  },
  {
   "cell_type": "code",
   "execution_count": 4,
   "metadata": {},
   "outputs": [
    {
     "name": "stdout",
     "output_type": "stream",
     "text": [
      "每行输入5个数字，输入完成后以\"no\"结束：2 5 1 5 1\n",
      "每行输入5个数字，输入完成后以\"no\"结束：1 5 1 5 2\n",
      "每行输入5个数字，输入完成后以\"no\"结束：no\n",
      "\n",
      "\n",
      "14\n",
      "3\n"
     ]
    }
   ],
   "source": [
    "#简单的数学问题（武大程序设计竞赛A题）\n",
    "#求最大公约数\n",
    "#更相减损法\n",
    "# def gcd(a,b):\n",
    "#     if a>b:\n",
    "#         max=a\n",
    "#         min=b\n",
    "#     else:\n",
    "#         max=b\n",
    "#         min=a\n",
    "#     c = max-min\n",
    "#     if c==0:\n",
    "#         return min\n",
    "#     else:\n",
    "#         return gcd(c,min)    \n",
    "#辗转相除法\n",
    "def gcd(a,b):\n",
    "    if a>b:\n",
    "        max=a\n",
    "        min=b\n",
    "    else:\n",
    "        max=b\n",
    "        min=a\n",
    "    c=max%min\n",
    "    if c==0:\n",
    "        return min\n",
    "    else:\n",
    "        return gcd(c,min)\n",
    "    \n",
    "def Calculate(a,b,c,d,k):\n",
    "    sum=0\n",
    "    for x in range(a,b+1):\n",
    "        for y in range(c,d+1):\n",
    "            if gcd(x,y)==k:\n",
    "                sum = sum+1\n",
    "    return sum\n",
    "\n",
    "def Myinput():\n",
    "    a =[]\n",
    "    while True:  \n",
    "        b = input('每行输入5个数字，输入完成后以\"no\"结束：')\n",
    "        if b== 'no':\n",
    "            break\n",
    "        a.append([b]) \n",
    "    return a\n",
    "\n",
    "ipt = Myinput()\n",
    "print('\\n')\n",
    "for i in range(len(ipt)):\n",
    "    L=ipt[i]\n",
    "    #将字符串切分成列表，以空格切分\n",
    "    L = L[0].split(\" \")\n",
    "    a = int(L[0])\n",
    "    b = int(L[1])\n",
    "    c = int(L[2])\n",
    "    d = int(L[3])\n",
    "    k = int(L[4])\n",
    "    print(Calculate(a,b,c,d,k))"
   ]
  }
 ],
 "metadata": {
  "kernelspec": {
   "display_name": "Python 3",
   "language": "python",
   "name": "python3"
  },
  "language_info": {
   "codemirror_mode": {
    "name": "ipython",
    "version": 3
   },
   "file_extension": ".py",
   "mimetype": "text/x-python",
   "name": "python",
   "nbconvert_exporter": "python",
   "pygments_lexer": "ipython3",
   "version": "3.6.8"
  }
 },
 "nbformat": 4,
 "nbformat_minor": 2
}
