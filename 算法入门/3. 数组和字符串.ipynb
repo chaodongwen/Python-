{
 "cells": [
  {
   "cell_type": "code",
   "execution_count": 2,
   "metadata": {},
   "outputs": [],
   "source": [
    "import numpy as np\n",
    "import math"
   ]
  },
  {
   "cell_type": "code",
   "execution_count": 11,
   "metadata": {},
   "outputs": [
    {
     "name": "stdout",
     "output_type": "stream",
     "text": [
      "\"To be or not to be,\" quoth the Bard, \"that is the question\".\n",
      "“To be or not to be,” quoth the Bard, “that is the question”."
     ]
    }
   ],
   "source": [
    "#数组\n",
    "#TeX中的引号\n",
    "q = 1\n",
    "c = input()\n",
    "c = list(c)\n",
    "for i in range(len(c)):\n",
    "    if c[i]=='\"':\n",
    "        if q==1:\n",
    "            c[i]='“'\n",
    "            q = ~q\n",
    "        else:\n",
    "            c[i]='”'\n",
    "            q = ~q\n",
    "for i in range(len(c)):\n",
    "    print(c[i],end='')"
   ]
  }
 ],
 "metadata": {
  "kernelspec": {
   "display_name": "Python 3",
   "language": "python",
   "name": "python3"
  },
  "language_info": {
   "codemirror_mode": {
    "name": "ipython",
    "version": 3
   },
   "file_extension": ".py",
   "mimetype": "text/x-python",
   "name": "python",
   "nbconvert_exporter": "python",
   "pygments_lexer": "ipython3",
   "version": "3.6.8"
  }
 },
 "nbformat": 4,
 "nbformat_minor": 2
}
