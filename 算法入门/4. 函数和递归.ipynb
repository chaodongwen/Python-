{
 "cells": [
  {
   "cell_type": "code",
   "execution_count": 80,
   "metadata": {},
   "outputs": [
    {
     "name": "stdout",
     "output_type": "stream",
     "text": [
      "24\n"
     ]
    }
   ],
   "source": [
    "#用递归算阶乘\n",
    "def f(n):\n",
    "    if n ==0:\n",
    "        return 1\n",
    "    else:\n",
    "        return f(n-1)*n\n",
    "print(f(4))"
   ]
  },
  {
   "cell_type": "code",
   "execution_count": 81,
   "metadata": {
    "scrolled": true
   },
   "outputs": [
    {
     "name": "stdout",
     "output_type": "stream",
     "text": [
      "['1', 'cheese', 'cheese', '2', 'cheese', 'abcdefg', '3', 'cheese', 'abcdefgij']\n",
      "round1: You win\n",
      "\n",
      "\n",
      "round2: You chickend out\n",
      "\n",
      "\n",
      "round3: You lose\n",
      "\n",
      "\n"
     ]
    }
   ],
   "source": [
    "import numpy as np\n",
    "\n",
    "data = ['1','cheese','cheese','2','cheese','abcdefg','3','cheese','abcdefgij']\n",
    "print(data)\n",
    "for i in range(0,len(data),3):\n",
    "    a = data[i]\n",
    "    b = data[i+2]\n",
    "    c = data[i+1]\n",
    "    left = len(c)\n",
    "    chance = 7\n",
    "    b = list(b)\n",
    "    c = list(c)\n",
    "    print(\"round%s:\"%a,end=' ')\n",
    "    for j in range(len(b)):\n",
    "        for k in range(len(c)):\n",
    "            bad = 1\n",
    "            if b[j]==c[k]:\n",
    "                c[k]==''\n",
    "                left = left-1\n",
    "                bad = 0\n",
    "                break\n",
    "        if bad==1:\n",
    "            chance = chance - 1\n",
    "        if chance == 0:\n",
    "            win = 1\n",
    "            print(\"You lose\")\n",
    "            break\n",
    "        if left==0:\n",
    "            print(\"You win\")\n",
    "            break\n",
    "    if chance!=0 and left!=0:\n",
    "        print(\"You chickend out\")     \n",
    "    print('\\n')"
   ]
  }
 ],
 "metadata": {
  "kernelspec": {
   "display_name": "Python 3",
   "language": "python",
   "name": "python3"
  },
  "language_info": {
   "codemirror_mode": {
    "name": "ipython",
    "version": 3
   },
   "file_extension": ".py",
   "mimetype": "text/x-python",
   "name": "python",
   "nbconvert_exporter": "python",
   "pygments_lexer": "ipython3",
   "version": "3.6.8"
  }
 },
 "nbformat": 4,
 "nbformat_minor": 2
}
