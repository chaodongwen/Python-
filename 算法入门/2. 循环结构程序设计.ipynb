{
 "cells": [
  {
   "cell_type": "code",
   "execution_count": 6,
   "metadata": {},
   "outputs": [],
   "source": [
    "import math"
   ]
  },
  {
   "cell_type": "code",
   "execution_count": 19,
   "metadata": {},
   "outputs": [
    {
     "name": "stdout",
     "output_type": "stream",
     "text": [
      "1100 1111 1122 1133 1144 1155 1166 1177 1188 1199 \n",
      "\n",
      "2200 2211 2222 2233 2244 2255 2266 2277 2288 2299 \n",
      "\n",
      "3300 3311 3322 3333 3344 3355 3366 3377 3388 3399 \n",
      "\n",
      "4400 4411 4422 4433 4444 4455 4466 4477 4488 4499 \n",
      "\n",
      "5500 5511 5522 5533 5544 5555 5566 5577 5588 5599 \n",
      "\n",
      "6600 6611 6622 6633 6644 6655 6666 6677 6688 6699 \n",
      "\n",
      "7700 7711 7722 7733 7744 7755 7766 7777 7788 7799 \n",
      "\n",
      "8800 8811 8822 8833 8844 8855 8866 8877 8888 8899 \n",
      "\n",
      "9900 9911 9922 9933 9944 9955 9966 9977 9988 9999 \n",
      "\n"
     ]
    }
   ],
   "source": [
    "#(1)for循环\n",
    "#输出所有形如aabb的4位的数\n",
    "def is_aabb(n):\n",
    "    n4 = n%10\n",
    "    n3 = (n//10)%10\n",
    "    n2 = (n//100)%10\n",
    "    n1 = (n//1000)%10\n",
    "    if(n1==n2 and n3==n4):\n",
    "        return 1\n",
    "    else:\n",
    "        return 0\n",
    "    \n",
    "for a in range(1,10):\n",
    "    for b in range(10):\n",
    "        k =a*1000+a*100+b*10+b\n",
    "        if(is_aabb(k)):\n",
    "            print(k,end=' ')\n",
    "    print('\\n')"
   ]
  },
  {
   "cell_type": "code",
   "execution_count": 21,
   "metadata": {},
   "outputs": [
    {
     "name": "stdout",
     "output_type": "stream",
     "text": [
      "7744 "
     ]
    }
   ],
   "source": [
    "#判断一个数是否为完全平方数\n",
    "def isSqr(n):\n",
    "    m = int(math.sqrt(n))\n",
    "    return m*m == n\n",
    "for a in range(1,10):\n",
    "    for b in range(10):\n",
    "        k =a*1000+a*100+b*10+b\n",
    "        if(isSqr(k)):\n",
    "            print(k,end=' ')"
   ]
  },
  {
   "cell_type": "code",
   "execution_count": 26,
   "metadata": {},
   "outputs": [
    {
     "name": "stdout",
     "output_type": "stream",
     "text": [
      "输入一个大于1的自然数6\n",
      "8\n"
     ]
    }
   ],
   "source": [
    "#(2)while和do-while\n",
    "#3n+1问题\n",
    "#对于任意大于1的自然数n，若n为奇数，则将n变为3n＋1，否则变为n的一半\n",
    "#经过若干次这样的变换，一定会使n变为1。例如，3→10→5→16→8→4→2→1\n",
    "#输入n，输出变换的次数\n",
    "n = int(input('输入一个大于1的自然数'))\n",
    "i = 0\n",
    "while(n>1):\n",
    "    i = i + 1 \n",
    "    if n%2 == 0:\n",
    "        n = n/2\n",
    "    else:\n",
    "        n = n*3 + 1\n",
    "print(i)"
   ]
  },
  {
   "cell_type": "code",
   "execution_count": 8,
   "metadata": {},
   "outputs": [
    {
     "name": "stdout",
     "output_type": "stream",
     "text": [
      "0.7853986633964231\n",
      "0.7853981633974483\n"
     ]
    }
   ],
   "source": [
    "#(3)近似计算\n",
    "sum = 0\n",
    "i = 0\n",
    "while(1):\n",
    "    term = 1/(2*i+1)\n",
    "    if(i%2==0):\n",
    "        sum = sum+term\n",
    "    else:\n",
    "        sum =sum-term\n",
    "    if term < 10**(-6):\n",
    "        break\n",
    "    i = i + 1\n",
    "print(sum)\n",
    "print(math.pi/4)"
   ]
  },
  {
   "cell_type": "code",
   "execution_count": 28,
   "metadata": {},
   "outputs": [
    {
     "name": "stdout",
     "output_type": "stream",
     "text": [
      "输入一个大于零的自然数15\n",
      "1307674368000\n",
      "1401602636313\n",
      "636313\n"
     ]
    }
   ],
   "source": [
    "#(4)计算n的阶乘\n",
    "def factorial(n):\n",
    "    for i in range(n+1):\n",
    "        if i ==0:\n",
    "            sum = 1\n",
    "        else:\n",
    "            sum = i*sum\n",
    "    return sum\n",
    "n = int(input('输入一个大于零的自然数'))\n",
    "print(factorial(n))\n",
    "s = 0\n",
    "for i in range(1,n+1):\n",
    "    s = s + factorial(i) \n",
    "print(s)\n",
    "print(s%1000000)"
   ]
  },
  {
   "cell_type": "code",
   "execution_count": 2,
   "metadata": {
    "scrolled": true
   },
   "outputs": [
    {
     "name": "stdout",
     "output_type": "stream",
     "text": [
      "请输入一串数字，以‘no’结束5\n",
      "请输入一串数字，以‘no’结束5\n",
      "请输入一串数字，以‘no’结束1\n",
      "请输入一串数字，以‘no’结束2\n",
      "请输入一串数字，以‘no’结束3\n",
      "请输入一串数字，以‘no’结束no\n",
      "['5', '5', '1', '2', '3']\n",
      "数字列表为: [5, 5, 1, 2, 3]\n",
      "16\n",
      "1 5\n",
      "最小值是1，最大值是5，平均数是3.200\n"
     ]
    }
   ],
   "source": [
    "#(5)数据统计\n",
    "#输入的数据存储在\n",
    "a = []\n",
    "while True:\n",
    "    b = input('请输入一串数字，以‘no’结束')\n",
    "    if b=='no':\n",
    "        break\n",
    "    a.append(b)\n",
    "#将字符串列表转化为数字列表\n",
    "a = list(map(int, a))\n",
    "print(\"数字列表为:\", a)\n",
    "\n",
    "sum,n = 0,0\n",
    "min,max = a[0],a[0]\n",
    "for i in range(len(a)):\n",
    "    temp = a[i]\n",
    "    n = n + 1\n",
    "    sum = sum + temp\n",
    "    if min > temp:\n",
    "        min =temp\n",
    "    if max < temp:\n",
    "        max = temp\n",
    "print(sum)\n",
    "print(min,max)\n",
    "print(\"最小值是%d，最大值是%d，平均数是%.3f\"%(min,max,sum/n))\n"
   ]
  },
  {
   "cell_type": "code",
   "execution_count": 50,
   "metadata": {},
   "outputs": [
    {
     "name": "stdout",
     "output_type": "stream",
     "text": [
      "153   370   371   407   "
     ]
    }
   ],
   "source": [
    "#水仙花数\n",
    "# n = int(input('请输入100到999的自然数'))\n",
    "for n in range(100,1000):\n",
    "    a = (n//100)%10\n",
    "    b = (n//10)%10\n",
    "    c = n%10\n",
    "    if a**3+b**3+c**3==n:\n",
    "        print(n,end='   ')"
   ]
  },
  {
   "cell_type": "code",
   "execution_count": 64,
   "metadata": {},
   "outputs": [
    {
     "name": "stdout",
     "output_type": "stream",
     "text": [
      "请输入3个数a<3,b<5,c<72 1 6\n",
      "2 1 6\n",
      "41   "
     ]
    }
   ],
   "source": [
    "#韩信点兵\n",
    "a,b,c = map(int, input('请输入3个数a<3,b<5,c<7').split(' '))\n",
    "print(a,b,c)\n",
    "for i in range(10,101):\n",
    "    if(i%3==a and i%5==b and i%7==c):\n",
    "        print(i,end='   ')\n",
    "        break\n",
    "    i = i + 1\n",
    "if i==101:\n",
    "    print(\"No answer\")"
   ]
  },
  {
   "cell_type": "code",
   "execution_count": 13,
   "metadata": {},
   "outputs": [
    {
     "name": "stdout",
     "output_type": "stream",
     "text": [
      "10\n",
      "# # # # # # # # # # # # # # # # # # # \n",
      "\n",
      "  # # # # # # # # # # # # # # # # # \n",
      "\n",
      "    # # # # # # # # # # # # # # # \n",
      "\n",
      "      # # # # # # # # # # # # # \n",
      "\n",
      "        # # # # # # # # # # # \n",
      "\n",
      "          # # # # # # # # # \n",
      "\n",
      "            # # # # # # # \n",
      "\n",
      "              # # # # # \n",
      "\n",
      "                # # # \n",
      "\n",
      "                  # \n",
      "\n"
     ]
    }
   ],
   "source": [
    "#输出倒三角形\n",
    "n = int(input())\n",
    "for i in range(n):\n",
    "    for j in range(i):\n",
    "        print(\"  \",end=\"\")\n",
    "    for k in range(2*(n-i)-1):\n",
    "        print(\"#\",end=\" \")\n",
    "    print(\"\\n\")"
   ]
  },
  {
   "cell_type": "code",
   "execution_count": 27,
   "metadata": {},
   "outputs": [
    {
     "name": "stdout",
     "output_type": "stream",
     "text": [
      "输入两个数n和m，其中n<m：2 4\n",
      "2 4\n",
      "0.42361\n"
     ]
    }
   ],
   "source": [
    "#子序列的和\n",
    "n,m = map(int,input('输入两个数n和m，其中n<m：').split(' '))\n",
    "print(n,m)\n",
    "sum = 0\n",
    "for i in range(n,m+1):\n",
    "    sum = sum + 1/(i**2)\n",
    "print(round(sum,5))"
   ]
  },
  {
   "cell_type": "code",
   "execution_count": 29,
   "metadata": {},
   "outputs": [
    {
     "name": "stdout",
     "output_type": "stream",
     "text": [
      "输入三个数a,b,c：1 6 4\n",
      "0.1667\n"
     ]
    }
   ],
   "source": [
    "#分数化小数\n",
    "a,b,c = map(int,input('输入三个数a,b,c：').split(' '))\n",
    "print(round(a/b,c))"
   ]
  },
  {
   "cell_type": "code",
   "execution_count": 40,
   "metadata": {},
   "outputs": [
    {
     "name": "stdout",
     "output_type": "stream",
     "text": [
      "192 384 576\n",
      "219 438 657\n",
      "267 534 801\n",
      "273 546 819\n",
      "327 654 981\n"
     ]
    }
   ],
   "source": [
    "for l in range(100,1000):\n",
    "    for m in range(100,1000):\n",
    "        for n in range(100,1000):\n",
    "            a = l//100\n",
    "            b = (l//10)%10\n",
    "            c = l%10\n",
    "            d = m//100\n",
    "            e = (m//10)%10\n",
    "            f = m%10\n",
    "            g = n//100\n",
    "            h = (n//10)%10\n",
    "            i = n%10   \n",
    "            if l*6==m*3==n*2 and \\\n",
    "            a!=b and a!=c and a!=d and a!=e and a!=f and a!=g and a!=h and a!=i \\\n",
    "            and b!=c and b!=d and b!=e and b!=f and b!=g and b!=h and b!=i \\\n",
    "            and c!=d and c!=e and c!=f and c!=g and c!=h and c!=i \\\n",
    "            and d!=e and d!=f and d!=g and d!=h and d!=i \\\n",
    "            and e!=f and e!=g and e!=h and e!=i \\\n",
    "            and f!=g and f!=h and f!=i \\\n",
    "            and g!=h and g!=i \\\n",
    "            and h!=i:\n",
    "                print(\"%d %d %d\"%(l,m,n))"
   ]
  }
 ],
 "metadata": {
  "kernelspec": {
   "display_name": "Python 3",
   "language": "python",
   "name": "python3"
  },
  "language_info": {
   "codemirror_mode": {
    "name": "ipython",
    "version": 3
   },
   "file_extension": ".py",
   "mimetype": "text/x-python",
   "name": "python",
   "nbconvert_exporter": "python",
   "pygments_lexer": "ipython3",
   "version": "3.6.8"
  }
 },
 "nbformat": 4,
 "nbformat_minor": 2
}
